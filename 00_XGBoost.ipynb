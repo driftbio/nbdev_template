{
 "cells": [
  {
   "cell_type": "code",
   "execution_count": null,
   "metadata": {},
   "outputs": [],
   "source": [
    "# default_exp core"
   ]
  },
  {
   "cell_type": "markdown",
   "metadata": {},
   "source": [
    "# XG Boost\n",
    "\n",
    "> Task descriptions for XG Boost test project."
   ]
  },
  {
   "cell_type": "code",
   "execution_count": null,
   "metadata": {},
   "outputs": [],
   "source": [
    "#hide\n",
    "from nbdev.showdoc import *"
   ]
  },
  {
   "cell_type": "code",
   "execution_count": null,
   "metadata": {},
   "outputs": [],
   "source": [
    "#export\n",
    "def load_dataframe() -> \"ray.ObjectRef\":\n",
    "    \"\"\"\n",
    "    #### build random dataframe task\n",
    "\n",
    "    \"\"\"\n",
    "    print(\"Loading CSV.\")\n",
    "    if SIMPLE:\n",
    "        print(\"Loading simple\")\n",
    "        from sklearn import datasets\n",
    "        data = datasets.load_breast_cancer(return_X_y=True)\n",
    "    else:\n",
    "        import pandas as pd\n",
    "        # import modin.pandas as mpd -- currently does not work.\n",
    "        url = \"https://archive.ics.uci.edu/ml/machine-learning-databases/\" \\\n",
    "         \"00280/HIGGS.csv.gz\"\n",
    "        colnames = [\"label\"] + [\"feature-%02d\" % i for i in range(1, 29)]\n",
    "        data = pd.read_csv(url, compression='gzip', names=colnames)\n",
    "        # data = pd.read_csv(\"/home/astro/HIGGS.csv.gz\", names=colnames)\n",
    "        print(\"loaded higgs\")\n",
    "    print(\"Loaded CSV.\")\n",
    "    return data"
   ]
  },
  {
   "cell_type": "code",
   "execution_count": null,
   "metadata": {},
   "outputs": [],
   "source": [
    "#export\n",
    "def create_data(data):\n",
    "    print(\"RUNNING SOME CODE!\")\n",
    "    logfile = open(\"/tmp/ray/session_latest/custom.log\", \"w\")\n",
    "    def write(msg):\n",
    "        logfile.write(f\"{msg}\\n\")\n",
    "        logfile.flush()\n",
    "\n",
    "    write(f\"Creating data matrix: {data, SIMPLE}\")\n",
    "    if SIMPLE:\n",
    "        from sklearn.model_selection import train_test_split\n",
    "        write(\"Splitting data\")\n",
    "        data, labels = data\n",
    "        train_x, test_x, train_y, test_y = train_test_split(\n",
    "            data, labels, test_size=0.25)\n",
    "\n",
    "        train_set = xgb.RayDMatrix(train_x, train_y)\n",
    "        test_set = xgb.RayDMatrix(test_x, test_y)\n",
    "    else:\n",
    "        df_train = data[(data['feature-01'] < 0.4)]\n",
    "        colnames = [\"label\"] + [\"feature-%02d\" % i for i in range(1, 29)]\n",
    "        train_set = xgb.RayDMatrix(df_train, label=\"label\", columns=colnames)\n",
    "        df_validation = data[(data['feature-01'] >= 0.4)& (data['feature-01'] < 0.8)]\n",
    "        test_set = xgb.RayDMatrix(df_validation, label=\"label\")\n",
    "    write(\"finished data matrix\")\n",
    "    return train_set, test_set"
   ]
  },
  {
   "cell_type": "code",
   "execution_count": null,
   "metadata": {},
   "outputs": [],
   "source": [
    "#export\n",
    "def train_model(data) -> None:\n",
    "        logfile = open(\"/tmp/ray/session_latest/custom.log\", \"w\")\n",
    "        def write(msg):\n",
    "            logfile.write(f\"{msg}\\n\")\n",
    "            logfile.flush()\n",
    "\n",
    "        dtrain, dvalidation = data\n",
    "        evallist = [(dvalidation, 'eval')]\n",
    "        evals_result = {}\n",
    "        config = {\n",
    "            \"tree_method\": \"hist\",\n",
    "            \"eval_metric\": [\"logloss\", \"error\"],\n",
    "        }\n",
    "        write(\"Start training\")\n",
    "        bst = xgb.train(\n",
    "            params=config,\n",
    "            dtrain=dtrain,\n",
    "            evals_result=evals_result,\n",
    "            ray_params=xgb.RayParams(max_actor_restarts=1, num_actors=2, cpus_per_actor=2),\n",
    "            num_boost_round=100,\n",
    "            evals=evallist)\n",
    "        write(\"finish training\")\n",
    "        return bst\n"
   ]
  }
 ],
 "metadata": {
  "kernelspec": {
   "display_name": "Python 3",
   "language": "python",
   "name": "python3"
  },
  "language_info": {
   "codemirror_mode": {
    "name": "ipython",
    "version": 3
   },
   "file_extension": ".py",
   "mimetype": "text/x-python",
   "name": "python",
   "nbconvert_exporter": "python",
   "pygments_lexer": "ipython3",
   "version": "3.8.8"
  }
 },
 "nbformat": 4,
 "nbformat_minor": 4
}
